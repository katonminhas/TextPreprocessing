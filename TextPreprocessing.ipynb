{
 "cells": [
  {
   "cell_type": "markdown",
   "metadata": {},
   "source": [
    "# NLTK: Data Engineering for Unstructured Text\n",
    "#### Katon Minhas\n",
    "\n",
    "Using the Amazon musical instrument review data on Kaggle (https://www.kaggle.com/eswarchandt/amazon-music-reviews), retrieve the summary column, perform tokenization, stemming, and lemmatization"
   ]
  },
  {
   "cell_type": "markdown",
   "metadata": {},
   "source": [
    "### Retrieve the summary column"
   ]
  },
  {
   "cell_type": "code",
   "execution_count": 1,
   "metadata": {},
   "outputs": [
    {
     "name": "stdout",
     "output_type": "stream",
     "text": [
      "good Jake It Does The Job Well GOOD WINDSCREEN FOR THE MONEY No more pops when I record my vocals. The Best Cable Monster Standard 100 - 21' Instrument Cable Didn't fit my 1996 Fender Strat... Great cable Best Instrument Cables On The Market One of the best instrument cables within the brand It works great but I hardly use it. HAS TO GET USE TO THE SIZE awesome It works! Definitely Not For The Seasoned Piano Player Durable Instrument Cable fender 18 ft. Cali clear... So far so good.  Will revisi\n"
     ]
    }
   ],
   "source": [
    "# import libraries\n",
    "\n",
    "import numpy as np\n",
    "import pandas as pd\n",
    "import nltk\n",
    "\n",
    "# read in data\n",
    "path = \"C:/Users/Katon/Documents/JHU/CreatingAIEnabledSystems/Assignment3/Musical_instruments_reviews.csv\"\n",
    "mir = pd.read_csv(path)\n",
    "summary = mir['summary']  # get summary column\n",
    "\n",
    "# string concatenate all summary rows to a single string\n",
    "summary = summary.str.cat(sep=' ')\n",
    "\n",
    "# print first 500 characters of resulting string\n",
    "print(summary[0:500])\n"
   ]
  },
  {
   "cell_type": "markdown",
   "metadata": {},
   "source": [
    "### Perform tokenization"
   ]
  },
  {
   "cell_type": "code",
   "execution_count": 2,
   "metadata": {},
   "outputs": [
    {
     "name": "stdout",
     "output_type": "stream",
     "text": [
      "word tokens = \n",
      " ['good', 'Jake', 'It', 'Does', 'The', 'Job', 'Well', 'GOOD', 'WINDSCREEN', 'FOR', 'THE', 'MONEY', 'No', 'more', 'pops', 'when', 'I', 'record', 'my', 'vocals', '.', 'The', 'Best', 'Cable', 'Monster', 'Standard', '100', '-', '21', \"'\", 'Instrument', 'Cable', 'Did', \"n't\", 'fit', 'my', '1996', 'Fender', 'Strat', '...', 'Great', 'cable', 'Best', 'Instrument', 'Cables', 'On', 'The', 'Market', 'One', 'of', 'the', 'best', 'instrument', 'cables', 'within', 'the', 'brand', 'It', 'works', 'great', 'but', 'I', 'hardly', 'use', 'it', '.', 'HAS', 'TO', 'GET', 'USE', 'TO', 'THE', 'SIZE', 'awesome', 'It', 'works', '!', 'Definitely', 'Not', 'For', 'The', 'Seasoned', 'Piano', 'Player', 'Durable', 'Instrument', 'Cable', 'fender', '18', 'ft.', 'Cali', 'clear', '...', 'So', 'far', 'so', 'good', '.', 'Will', 'revisit'] \n",
      "\n",
      "\n",
      "casual tokens =  ['good', 'Jake', 'It', 'Does', 'The', 'Job', 'Well', 'GOOD', 'WINDSCREEN', 'FOR', 'THE', 'MONEY', 'No', 'more', 'pops', 'when', 'I', 'record', 'my', 'vocals', '.', 'The', 'Best', 'Cable', 'Monster', 'Standard', '100', '-', '21', \"'\", 'Instrument', 'Cable', \"Didn't\", 'fit', 'my', '1996', 'Fender', 'Strat', '...', 'Great', 'cable', 'Best', 'Instrument', 'Cables', 'On', 'The', 'Market', 'One', 'of', 'the', 'best', 'instrument', 'cables', 'within', 'the', 'brand', 'It', 'works', 'great', 'but', 'I', 'hardly', 'use', 'it', '.', 'HAS', 'TO', 'GET', 'USE', 'TO', 'THE', 'SIZE', 'awesome', 'It', 'works', '!', 'Definitely', 'Not', 'For', 'The', 'Seasoned', 'Piano', 'Player', 'Durable', 'Instrument', 'Cable', 'fender', '18', 'ft', '.', 'Cali', 'clear', '...', 'So', 'far', 'so', 'good', '.', 'Will', 'revisit'] \n",
      "\n",
      "\n",
      "sentence tokens =  ['good Jake It Does The Job Well GOOD WINDSCREEN FOR THE MONEY No more pops when I record my vocals.', \"The Best Cable Monster Standard 100 - 21' Instrument Cable Didn't fit my 1996 Fender Strat... Great cable Best Instrument Cables On The Market One of the best instrument cables within the brand It works great but I hardly use it.\", 'HAS TO GET USE TO THE SIZE awesome It works!', 'Definitely Not For The Seasoned Piano Player Durable Instrument Cable fender 18 ft. Cali clear...', 'So far so good.', 'Will revisit at the 6 month mark ;) Add California to the name and I jump!', 'Cheap and cool looking, good length Fender 18 Feet California Clear Instrument Cable - Lake Placid Blue Guitar Cable Quality cable!', \"I Got Great Pricing, But Still a Really Good Product Its a Hosa Quality and Secure Midi to Midi Very Heavy Cables At Affordable Price Still going Does what it's supposed to do Good cable Good Enough Great little cord Does the job.\", 'What more do you need?', 'Decent mic cable Decent inexpensive cable a fine cable.'] \n",
      "\n",
      "\n"
     ]
    }
   ],
   "source": [
    "# word tokenize\n",
    "wtokens = nltk.word_tokenize(summary)\n",
    "\n",
    "# casual tokenize\n",
    "ctokens = nltk.casual_tokenize(summary)\n",
    "\n",
    "# sentence tokenize\n",
    "stokens = nltk.sent_tokenize(summary)\n",
    "\n",
    "\n",
    "# print just first 100 tokens from each tokenization\n",
    "print(\"word tokens = \\n\", wtokens[0:100], \"\\n\\n\")\n",
    "print(\"casual tokens = \", ctokens[0:100], \"\\n\\n\")\n",
    "print(\"sentence tokens = \", stokens[0:10], \"\\n\\n\") # sentences are longer, only take 10"
   ]
  },
  {
   "cell_type": "markdown",
   "metadata": {},
   "source": [
    "#### Discussion\n",
    "Three tokenization techniques were applied:\n",
    "\n",
    "Word Tokenization - Split into words by space\n",
    "\n",
    "Casual Tokenization - Split into words, recognizing symbols as line breaks\n",
    "\n",
    "Sentence Tokenization - Split text into sentence\n",
    "\n",
    "##### Issues and Limitations:\n",
    "1) Includes of out of vocabulary words. Very basic and does not attempt to handle words that are outside of the known vocabulary\n",
    "\n",
    "2) In casual tokenization, symbols are treated as their own words\n",
    "\n",
    "3) Duplicate words - not really an issue, but all duplicate words are kept\n"
   ]
  },
  {
   "cell_type": "markdown",
   "metadata": {},
   "source": [
    "### Perform Stemming"
   ]
  },
  {
   "cell_type": "code",
   "execution_count": 3,
   "metadata": {},
   "outputs": [
    {
     "name": "stdout",
     "output_type": "stream",
     "text": [
      "Porter Stemming:  ['good', 'jake', 'It', 'doe', 'the', 'job', 'well', 'good', 'windscreen', 'for', 'the', 'money', 'No', 'more', 'pop', 'when', 'I', 'record', 'my', 'vocal', '.', 'the', 'best', 'cabl', 'monster', 'standard', '100', '-', '21', \"'\", 'instrument', 'cabl', \"didn't\", 'fit', 'my', '1996', 'fender', 'strat', '...', 'great', 'cabl', 'best', 'instrument', 'cabl', 'On', 'the', 'market', 'one', 'of', 'the', 'best', 'instrument', 'cabl', 'within', 'the', 'brand', 'It', 'work', 'great', 'but', 'I', 'hardli', 'use', 'it', '.', 'ha', 'TO', 'get', 'use', 'TO', 'the', 'size', 'awesom', 'It', 'work', '!', 'definit', 'not', 'for', 'the', 'season', 'piano', 'player', 'durabl', 'instrument', 'cabl', 'fender', '18', 'ft', '.', 'cali', 'clear', '...', 'So', 'far', 'so', 'good', '.', 'will', 'revisit'] \n",
      "\n",
      "\n",
      "Lancaster Stemming:  ['good', 'jak', 'it', 'doe', 'the', 'job', 'wel', 'good', 'windscreen', 'for', 'the', 'money', 'no', 'mor', 'pop', 'when', 'i', 'record', 'my', 'voc', '.', 'the', 'best', 'cabl', 'monst', 'standard', '100', '-', '21', \"'\", 'instru', 'cabl', \"didn't\", 'fit', 'my', '1996', 'fend', 'strat', '...', 'gre', 'cabl', 'best', 'instru', 'cabl', 'on', 'the', 'market', 'on', 'of', 'the', 'best', 'instru', 'cabl', 'within', 'the', 'brand', 'it', 'work', 'gre', 'but', 'i', 'hard', 'us', 'it', '.', 'has', 'to', 'get', 'us', 'to', 'the', 'siz', 'awesom', 'it', 'work', '!', 'definit', 'not', 'for', 'the', 'season', 'piano', 'play', 'dur', 'instru', 'cabl', 'fend', '18', 'ft', '.', 'cal', 'clear', '...', 'so', 'far', 'so', 'good', '.', 'wil', 'revisit'] \n",
      "\n",
      "\n",
      "Snowball Stemming:  ['good', 'jake', 'it', 'doe', 'the', 'job', 'well', 'good', 'windscreen', 'for', 'the', 'money', 'no', 'more', 'pop', 'when', 'i', 'record', 'my', 'vocal', '.', 'the', 'best', 'cabl', 'monster', 'standard', '100', '-', '21', \"'\", 'instrument', 'cabl', \"didn't\", 'fit', 'my', '1996', 'fender', 'strat', '...', 'great', 'cabl', 'best', 'instrument', 'cabl', 'on', 'the', 'market', 'one', 'of', 'the', 'best', 'instrument', 'cabl', 'within', 'the', 'brand', 'it', 'work', 'great', 'but', 'i', 'hard', 'use', 'it', '.', 'has', 'to', 'get', 'use', 'to', 'the', 'size', 'awesom', 'it', 'work', '!', 'definit', 'not', 'for', 'the', 'season', 'piano', 'player', 'durabl', 'instrument', 'cabl', 'fender', '18', 'ft', '.', 'cali', 'clear', '...', 'so', 'far', 'so', 'good', '.', 'will', 'revisit'] \n",
      "\n",
      "\n"
     ]
    }
   ],
   "source": [
    "from nltk.stem.porter import PorterStemmer\n",
    "from nltk.stem.lancaster import LancasterStemmer\n",
    "from nltk.stem import SnowballStemmer\n",
    "\n",
    "# for stemming, only use the word tokenization wtokens\n",
    "porter_stems = []\n",
    "lanc_stems = []\n",
    "snow_stems = []\n",
    "\n",
    "# apply 3 different stemming functions\n",
    "for f in ctokens:\n",
    "    porter_stems.append(PorterStemmer().stem(f))\n",
    "    lanc_stems.append(LancasterStemmer().stem(f))\n",
    "    snow_stems.append(SnowballStemmer('english').stem(f))\n",
    "\n",
    "# print first 100 values\n",
    "print(\"Porter Stemming: \", porter_stems[0:100], \"\\n\\n\")\n",
    "print(\"Lancaster Stemming: \", lanc_stems[0:100], \"\\n\\n\")\n",
    "print(\"Snowball Stemming: \", snow_stems[0:100], \"\\n\\n\")\n",
    "\n"
   ]
  },
  {
   "cell_type": "markdown",
   "metadata": {},
   "source": [
    "#### Discussion\n",
    "Three word stemming techniques were applied:\n",
    "\n",
    "Porter Stemming: Oldest and most commonly used stemming algorithm\n",
    "\n",
    "Lancaster Stemming: More agressive than Porter\n",
    "\n",
    "Snowball Stemming (Porter2): Uses snowball language for improved performance\n",
    "\n",
    "##### Issues and Limitations:\n",
    "1) Agressive overstemming (especially in Lancaster) can lead to incomprehensible output\n",
    "\n",
    "2) Doesn't consider word usage, so two different words can be stemmed to the same result. For example, the word STREAM in \"He streamed the video\" and \"He sat by the stream\" would both be stemmed to \"STREAM\""
   ]
  },
  {
   "cell_type": "markdown",
   "metadata": {},
   "source": [
    "### Perform Lemmatization"
   ]
  },
  {
   "cell_type": "code",
   "execution_count": 4,
   "metadata": {},
   "outputs": [
    {
     "name": "stdout",
     "output_type": "stream",
     "text": [
      "Lemmatized Tokens:  ['good', 'Jake', 'It', 'Does', 'The', 'Job', 'Well', 'GOOD', 'WINDSCREEN', 'FOR', 'THE', 'MONEY', 'No', 'more', 'pop', 'when', 'I', 'record', 'my', 'vocals', '.', 'The', 'Best', 'Cable', 'Monster', 'Standard', '100', '-', '21', \"'\", 'Instrument', 'Cable', 'Did', \"n't\", 'fit', 'my', '1996', 'Fender', 'Strat', '...', 'Great', 'cable', 'Best', 'Instrument', 'Cables', 'On', 'The', 'Market', 'One', 'of', 'the', 'best', 'instrument', 'cable', 'within', 'the', 'brand', 'It', 'work', 'great', 'but', 'I', 'hardly', 'use', 'it', '.', 'HAS', 'TO', 'GET', 'USE', 'TO', 'THE', 'SIZE', 'awesome', 'It', 'work', '!', 'Definitely', 'Not', 'For', 'The', 'Seasoned', 'Piano', 'Player', 'Durable', 'Instrument', 'Cable', 'fender', '18', 'ft.', 'Cali', 'clear', '...', 'So', 'far', 'so', 'good', '.', 'Will', 'revisit'] \n",
      "\n",
      "\n"
     ]
    }
   ],
   "source": [
    "from nltk.stem.wordnet import WordNetLemmatizer\n",
    "lmtzr = WordNetLemmatizer()\n",
    "\n",
    "lemmas = []\n",
    "for f in wtokens:\n",
    "    lemmas.append(lmtzr.lemmatize(f, 'v'))\n",
    "    \n",
    "print(\"Lemmatized Tokens: \", lemmas[0:100], \"\\n\\n\")"
   ]
  },
  {
   "cell_type": "markdown",
   "metadata": {},
   "source": [
    "#### Discussion\n",
    "WordNetLemmatizer was used. This reduces words to the dictionary form of the word. Unlike stemming, it is based on identifying part of speech and meaning, rather than simply removing letters in the string\n",
    "For example: \"go, going, went, and gone\" are all lemmatized to \"go\", even though the string \"go\" doesn't appear in the string \"went\"\n",
    "\n",
    "##### Issues and Limitizations\n",
    "1) Removes aspects of verb tense and subject, so final sentences can be confusing\n",
    "\n",
    "2) May incorrectly interpret word meaning.\n"
   ]
  }
 ],
 "metadata": {
  "kernelspec": {
   "display_name": "Python 3",
   "language": "python",
   "name": "python3"
  },
  "language_info": {
   "codemirror_mode": {
    "name": "ipython",
    "version": 3
   },
   "file_extension": ".py",
   "mimetype": "text/x-python",
   "name": "python",
   "nbconvert_exporter": "python",
   "pygments_lexer": "ipython3",
   "version": "3.8.5"
  }
 },
 "nbformat": 4,
 "nbformat_minor": 4
}
